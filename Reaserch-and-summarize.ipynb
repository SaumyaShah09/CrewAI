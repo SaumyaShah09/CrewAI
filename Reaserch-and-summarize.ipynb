{
 "cells": [
  {
   "metadata": {},
   "cell_type": "raw",
   "source": "",
   "id": "3e4c6ec3504d277f"
  },
  {
   "metadata": {
    "ExecuteTime": {
     "end_time": "2025-06-11T08:58:26.282400Z",
     "start_time": "2025-06-11T08:58:15.462180Z"
    }
   },
   "cell_type": "code",
   "source": [
    "from crewai import Agent,Task,Crew\n",
    "import os\n",
    "from dotenv import load_dotenv\n",
    "from langchain_community.callbacks.fiddler_callback import LLM_STATUS\n",
    "from pymupdf.mupdf import ll_fz_lookup_noto_music_font_outparams_fn\n",
    "\n",
    "load_dotenv()\n",
    "GROQ_API_KEY = os.getenv(\"GROQ_API_KEY\")\n",
    "os.environ[\"GROQ_MODEL_NAME\"] = \"llama3-8b-8192\"\n",
    "SERP_API_KEY = os.getenv(\"SERPAPI_API_KEY\")\n",
    "\n",
    "from crewai.llm import LLM\n",
    "\n",
    "llm = LLM(\n",
    "    model=\"llama3-8b-8192\",\n",
    "    api_key=GROQ_API_KEY,\n",
    "    base_url=\"https://api.groq.com/openai/v1\"\n",
    ")\n"
   ],
   "id": "d0b54d86fcd1b4d",
   "outputs": [],
   "execution_count": 1
  },
  {
   "metadata": {
    "ExecuteTime": {
     "end_time": "2025-06-11T08:58:31.724709Z",
     "start_time": "2025-06-11T08:58:26.331437Z"
    }
   },
   "cell_type": "code",
   "source": "topic = input(\"Enter the topic you want to search about\")",
   "id": "caf5072dae14611d",
   "outputs": [],
   "execution_count": 2
  },
  {
   "metadata": {
    "ExecuteTime": {
     "end_time": "2025-06-11T08:58:33.515433Z",
     "start_time": "2025-06-11T08:58:33.504370Z"
    }
   },
   "cell_type": "code",
   "source": [
    "researcher = Agent(\n",
    "    role = \"researcher\",\n",
    "    goal = f\"To gather the data {topic}\",\n",
    "    backstory=\"An expert pulling an insights from across the internet and summarize it \",\n",
    "    llm=llm,\n",
    ")\n"
   ],
   "id": "70af4a8e199f20c5",
   "outputs": [
    {
     "name": "stdout",
     "output_type": "stream",
     "text": [
      "\n",
      "\n",
      "\n"
     ]
    }
   ],
   "execution_count": 3
  },
  {
   "metadata": {
    "ExecuteTime": {
     "end_time": "2025-06-11T08:58:33.553522Z",
     "start_time": "2025-06-11T08:58:33.543349Z"
    }
   },
   "cell_type": "code",
   "source": [
    "summarizer = Agent(\n",
    "    role=\"summarizer\",\n",
    "    goal=f\"Summarize complex findings about {topic} into short, clear insights.\",\n",
    "    backstory=\"A world-class editor who specializes in summarizing large information into digestible content.\",\n",
    "    llm=llm\n",
    "\n",
    ")"
   ],
   "id": "b3129954a6094ea8",
   "outputs": [
    {
     "name": "stdout",
     "output_type": "stream",
     "text": [
      "\n",
      "\n",
      "\n"
     ]
    }
   ],
   "execution_count": 4
  },
  {
   "metadata": {
    "ExecuteTime": {
     "end_time": "2025-06-11T08:58:33.777614Z",
     "start_time": "2025-06-11T08:58:33.770646Z"
    }
   },
   "cell_type": "code",
   "source": [
    "research_task = Task(\n",
    "    description=f\"\"\"You are a world-class internet researcher.\n",
    "Search online and write a long, fact-based, well-structured article about \"{topic}\".\n",
    "It should have an introduction, key insights, and conclusion. Minimum 500 words.\"\"\",\n",
    "    expected_output=f\"A detailed research report about {topic} in markdown format.\",\n",
    "    agent=researcher\n",
    ")"
   ],
   "id": "357f8ad323ac6238",
   "outputs": [],
   "execution_count": 5
  },
  {
   "metadata": {
    "ExecuteTime": {
     "end_time": "2025-06-11T08:58:34.033441Z",
     "start_time": "2025-06-11T08:58:34.025023Z"
    }
   },
   "cell_type": "code",
   "source": [
    "summarization_task = Task(\n",
    "    description=f\"\"\"You are a professional summarizer.\n",
    "Summarize the researcher's output into 5 bullet-point insights.\n",
    "Each point should be concise, clear, and based on factual info from the research report.\"\"\",\n",
    "    expected_output=f\"5 bullet points summarizing the main takeaways about {topic}.\",\n",
    "    agent=summarizer,\n",
    "    context=[research_task]\n",
    ")"
   ],
   "id": "cfc2a405314cddfd",
   "outputs": [],
   "execution_count": 6
  },
  {
   "metadata": {
    "ExecuteTime": {
     "end_time": "2025-06-11T08:58:36.790219Z",
     "start_time": "2025-06-11T08:58:34.144798Z"
    }
   },
   "cell_type": "code",
   "source": [
    "crew = Crew(\n",
    "    agents=[researcher, summarizer],\n",
    "    tasks=[research_task, summarization_task],\n",
    "\n",
    ")\n",
    "result = crew.kickoff()\n",
    "\n",
    "for task in result.tasks_output:\n",
    "    if task.agent == \"summarizer\":\n",
    "        print(\"\\n\\n Final Summary from Summarizer:\\n\")\n",
    "        print(task.raw)\n",
    "        break\n"
   ],
   "id": "e080b451d710215f",
   "outputs": [
    {
     "name": "stdout",
     "output_type": "stream",
     "text": [
      "\n",
      "\n",
      "\n",
      "\n",
      "\n",
      "\n",
      "\n",
      "\n",
      "\n",
      "\n",
      "\n",
      "\n",
      "\n",
      "\n",
      "\n",
      "\n",
      "\n",
      "\n",
      "\n",
      "\n",
      "\n",
      "\n",
      "\n",
      "\n",
      "\n",
      "\n",
      " Final Summary from Summarizer:\n",
      "\n",
      "• Python is a high-level, interpreted programming language that is easy to learn and use, with a syntax that is more readable than other programming languages.\n",
      "• Python has a large standard library that includes modules for tasks such as file I/O, networking, and data analysis, making it suitable for a wide range of applications.\n",
      "• Python is dynamically typed, which means that you don't need to declare the data type of a variable before using it.\n",
      "• Python has a large and active community, with many resources available for learning and troubleshooting, making it a great choice for beginners and experienced developers alike.\n",
      "• Python can run on multiple operating systems, including Windows, macOS, and Linux, making it a great choice for cross-platform development.\n"
     ]
    }
   ],
   "execution_count": 7
  }
 ],
 "metadata": {
  "kernelspec": {
   "display_name": "Python 3",
   "language": "python",
   "name": "python3"
  },
  "language_info": {
   "codemirror_mode": {
    "name": "ipython",
    "version": 2
   },
   "file_extension": ".py",
   "mimetype": "text/x-python",
   "name": "python",
   "nbconvert_exporter": "python",
   "pygments_lexer": "ipython2",
   "version": "2.7.6"
  }
 },
 "nbformat": 4,
 "nbformat_minor": 5
}
