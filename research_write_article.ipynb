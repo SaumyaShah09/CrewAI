{
 "cells": [
  {
   "cell_type": "code",
   "id": "initial_id",
   "metadata": {
    "collapsed": true
   },
   "source": [
    "import sys\n",
    "sys.setrecursionlimit(1500)\n"
   ],
   "outputs": [],
   "execution_count": null
  },
  {
   "metadata": {},
   "cell_type": "code",
   "source": [
    "from crewai import Agent,Task,Crew\n",
    "\n",
    "import os\n",
    "from dotenv import load_dotenv\n",
    "load_dotenv()\n",
    "GROQ_API_KEY = os.getenv(\"GROQ_API_KEY\")\n",
    "os.environ[\"GROQ_MODEL_NAME\"] = \"llama-3.3-70b-versatile\"\n",
    "\n",
    "from crewai.llm import LLM\n",
    "\n",
    "llm = LLM(\n",
    "    model=\"llama-3.3-70b-versatile\",\n",
    "    api_key=\"GROQ_API_KEY\",\n",
    "    base_url=\"https://api.groq.com/openai/v1\",\n",
    "\n",
    ")"
   ],
   "id": "7cd0a39c6aaf6089",
   "outputs": [],
   "execution_count": null
  },
  {
   "metadata": {},
   "cell_type": "code",
   "source": "topic = input(\"Enter your topic to generate the blog\")",
   "id": "cededdaaec811535",
   "outputs": [],
   "execution_count": null
  },
  {
   "metadata": {},
   "cell_type": "code",
   "outputs": [],
   "execution_count": null,
   "source": [
    "planner = Agent(\n",
    "    role=\"Content Planner\",\n",
    "    goal=f\"Plan engaging and factually accurate content on {topic}\",\n",
    "    backstory=(\n",
    "        f\"You are working on planning a blog article about {topic}. \"\n",
    "        \"You collect information that helps the audience learn something \"\n",
    "        \"and make informed decisions. Your work is the basis for the \"\n",
    "        \"content writer to write an article on this topic.\"\n",
    "    ),\n",
    "    allow_delegation=False,\n",
    "    llm=llm\n",
    ")\n"
   ],
   "id": "c756041c4796cc3d"
  },
  {
   "metadata": {},
   "cell_type": "code",
   "source": [
    "writer = Agent(\n",
    "    role=\"Content Writer\",\n",
    "    goal=f\"Write insightful and factually accurate opinion piece about the topic: {topic}\",\n",
    "    backstory=(\n",
    "        f\"You're writing a new opinion piece about the topic: {topic}. \"\n",
    "        \"You base your writing on the work of the Content Planner, who provides an outline \"\n",
    "        \"and relevant context about the topic. You follow the main objectives and \"\n",
    "        \"direction of the outline, as provided by the Content Planner. You also provide \"\n",
    "        \"objective and impartial insights and back them up with information provided by the Content Planner. \"\n",
    "        \"You acknowledge in your opinion piece when your statements are opinions as opposed to objective statements.\"\n",
    "    ),\n",
    "    allow_delegation=False,\n",
    "    llm=llm\n",
    ")\n"
   ],
   "id": "8cbbe777dfa9d369",
   "outputs": [],
   "execution_count": null
  },
  {
   "metadata": {},
   "cell_type": "code",
   "source": [
    "editor = Agent(\n",
    "    role=\"Editor\",\n",
    "    goal=\"Edit a given blog post to align with \"\n",
    "         \"the writing style of the organization. \",\n",
    "    backstory=\"You are an editor who receives a blog post \"\n",
    "              \"from the Content Writer. \"\n",
    "              \"Your goal is to review the blog post \"\n",
    "              \"to ensure that it follows journalistic best practices,\"\n",
    "              \"provides balanced viewpoints \"\n",
    "              \"when providing opinions or assertions, \"\n",
    "              \"and also avoids major controversial topics \"\n",
    "              \"or opinions when possible.\",\n",
    "    allow_delegation=False,\n",
    "    llm=llm\n",
    "\n",
    ")"
   ],
   "id": "4fc743f40fde7886",
   "outputs": [],
   "execution_count": null
  },
  {
   "metadata": {},
   "cell_type": "code",
   "source": [
    "plan = Task(\n",
    "    description=(\n",
    "        f\"1. Prioritize the latest trends, key players, and noteworthy news on {topic}.\\n\"\n",
    "        \"2. Identify the target audience, considering their interests and pain points.\\n\"\n",
    "        \"3. Develop a detailed content outline including an introduction, key points, and a call to action.\\n\"\n",
    "        \"4. Include SEO keywords and relevant data or sources.\"\n",
    "    ),\n",
    "    expected_output=\"A comprehensive content plan document with an outline, audience analysis, SEO keywords, and resources.\",\n",
    "    agent=planner,\n",
    ")\n"
   ],
   "id": "5e5d0d15986227b6",
   "outputs": [],
   "execution_count": null
  },
  {
   "metadata": {},
   "cell_type": "code",
   "source": [
    "write = Task(\n",
    "    description=(\n",
    "        f\"1. Use the content plan to craft a compelling blog post on {topic}.\\n\"\n",
    "        \"2. Incorporate SEO keywords naturally.\\n\"\n",
    "        \"3. Sections/Subtitles are properly named in an engaging manner.\\n\"\n",
    "        \"4. Ensure the post is structured with an engaging introduction, insightful body, and a summarizing conclusion.\\n\"\n",
    "        \"5. Proofread for grammatical errors and alignment with the brand's voice.\\n\"\n",
    "    ),\n",
    "    expected_output=\"A well-written blog post in markdown format, ready for publication, each section should have 2 or 3 paragraphs.\",\n",
    "    agent=writer,\n",
    ")\n"
   ],
   "id": "624c6538317acd13",
   "outputs": [],
   "execution_count": null
  },
  {
   "metadata": {},
   "cell_type": "code",
   "source": [
    "edit = Task(\n",
    "    description=(\"Proofread the given blog post for \"\n",
    "                 \"grammatical errors and \"\n",
    "                 \"alignment with the brand's voice.\"),\n",
    "    expected_output=\"A well-written blog post in markdown format, \"\n",
    "                    \"ready for publication, \"\n",
    "                    \"each section should have 2 or 3 paragraphs.\",\n",
    "    agent=editor\n",
    ")"
   ],
   "id": "88e5f32c2626ff80",
   "outputs": [],
   "execution_count": null
  },
  {
   "metadata": {},
   "cell_type": "code",
   "source": [
    "crew = Crew(\n",
    "    agents=[planner, writer, editor],\n",
    "    tasks=[plan, write, edit],\n",
    ")"
   ],
   "id": "f39d428f69ef3943",
   "outputs": [],
   "execution_count": null
  },
  {
   "metadata": {},
   "cell_type": "code",
   "source": [
    "result = crew.kickoff(inputs={\"topic\": topic})\n",
    "\n",
    "print(\"\\n\\nFINAL OUTPUT:\\n\")\n",
    "print(result)"
   ],
   "id": "fdb3d08555904e3c",
   "outputs": [],
   "execution_count": null
  }
 ],
 "metadata": {
  "kernelspec": {
   "display_name": "Python 3",
   "language": "python",
   "name": "python3"
  },
  "language_info": {
   "codemirror_mode": {
    "name": "ipython",
    "version": 2
   },
   "file_extension": ".py",
   "mimetype": "text/x-python",
   "name": "python",
   "nbconvert_exporter": "python",
   "pygments_lexer": "ipython2",
   "version": "2.7.6"
  }
 },
 "nbformat": 4,
 "nbformat_minor": 5
}
