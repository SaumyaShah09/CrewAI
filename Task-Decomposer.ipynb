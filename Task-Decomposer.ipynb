{
 "cells": [
  {
   "metadata": {
    "ExecuteTime": {
     "end_time": "2025-06-11T09:11:52.528137Z",
     "start_time": "2025-06-11T09:11:52.517379Z"
    }
   },
   "cell_type": "code",
   "source": [
    "from crewai import Agent,Task,Crew,Process\n",
    "import os\n",
    "from dotenv import load_dotenv\n",
    "\n",
    "load_dotenv()\n",
    "GROQ_API_KEY = os.getenv(\"GROQ_API_KEY\")\n",
    "os.environ[\"GROQ_MODEL_NAME\"] = \"llama3-8b-8192\"\n",
    "SERP_API_KEY = os.getenv(\"SERPAPI_API_KEY\")\n",
    "\n",
    "from crewai.llm import LLM\n",
    "\n",
    "\n",
    "llm = LLM(\n",
    "    model=\"llama3-8b-8192\",\n",
    "    api_key=GROQ_API_KEY,\n",
    "    base_url=\"https://api.groq.com/openai/v1\"\n",
    ")\n"
   ],
   "id": "60eeb6ab223c5b44",
   "outputs": [],
   "execution_count": 11
  },
  {
   "metadata": {
    "ExecuteTime": {
     "end_time": "2025-06-11T09:11:52.618726Z",
     "start_time": "2025-06-11T09:11:52.605217Z"
    }
   },
   "cell_type": "code",
   "source": [
    "planner = Agent(\n",
    "    role='Task Decomposer',\n",
    "    goal='Break down a high-level objective into detailed, actionable subtasks and delegate them effectively',\n",
    "    backstory='You are a strategic planner with expertise in decomposing goals into structured subtasks for execution.',\n",
    "    llm=llm\n",
    ")"
   ],
   "id": "b1ea3c91cfb1babc",
   "outputs": [
    {
     "name": "stdout",
     "output_type": "stream",
     "text": [
      "\n",
      "\n",
      "\n"
     ]
    }
   ],
   "execution_count": 12
  },
  {
   "metadata": {
    "ExecuteTime": {
     "end_time": "2025-06-11T09:11:52.687102Z",
     "start_time": "2025-06-11T09:11:52.679105Z"
    }
   },
   "cell_type": "code",
   "source": [
    "researcher = Agent(\n",
    "    role='Researcher',\n",
    "    goal='Conduct comprehensive research on LLM startups including trends, key players, and market data',\n",
    "    backstory='You are an expert market researcher specializing in artificial intelligence startups and funding trends.',\n",
    "    llm=llm\n",
    ")"
   ],
   "id": "8358da10915c0eb0",
   "outputs": [
    {
     "name": "stdout",
     "output_type": "stream",
     "text": [
      "\n",
      "\n",
      "\n"
     ]
    }
   ],
   "execution_count": 13
  },
  {
   "metadata": {
    "ExecuteTime": {
     "end_time": "2025-06-11T09:11:52.759640Z",
     "start_time": "2025-06-11T09:11:52.748834Z"
    }
   },
   "cell_type": "code",
   "source": [
    "analyst = Agent(\n",
    "    role='Data Analyst',\n",
    "    goal='Analyze market trends and identify key players in LLM startup space',\n",
    "    backstory='Data scientist with experience in startup valuation and market analysis',\n",
    "    llm=llm\n",
    ")"
   ],
   "id": "fdfb60ae7579f96a",
   "outputs": [
    {
     "name": "stdout",
     "output_type": "stream",
     "text": [
      "\n",
      "\n",
      "\n"
     ]
    }
   ],
   "execution_count": 14
  },
  {
   "metadata": {
    "ExecuteTime": {
     "end_time": "2025-06-11T09:11:52.855379Z",
     "start_time": "2025-06-11T09:11:52.844154Z"
    }
   },
   "cell_type": "code",
   "source": [
    "writer = Agent(\n",
    "    role='Writer',\n",
    "    goal='Write a clear and concise market report based on research findings',\n",
    "    backstory='You are a skilled technical writer with experience in creating insightful reports on technology sectors.',\n",
    "    llm=llm\n",
    ")"
   ],
   "id": "8a66e034f1d8a488",
   "outputs": [
    {
     "name": "stdout",
     "output_type": "stream",
     "text": [
      "\n",
      "\n",
      "\n"
     ]
    }
   ],
   "execution_count": 15
  },
  {
   "metadata": {
    "ExecuteTime": {
     "end_time": "2025-06-11T09:11:52.933323Z",
     "start_time": "2025-06-11T09:11:52.926188Z"
    }
   },
   "cell_type": "code",
   "source": [
    "planning_task = Task(\n",
    "    description='Break down the LLM startup market report project into actionable steps',\n",
    "    agent=planner,\n",
    "    expected_output='Detailed task breakdown with assignments for researcher, analyst, and writer'\n",
    ")"
   ],
   "id": "28ce0dae9ce7db41",
   "outputs": [],
   "execution_count": 16
  },
  {
   "metadata": {
    "ExecuteTime": {
     "end_time": "2025-06-11T09:11:52.994507Z",
     "start_time": "2025-06-11T09:11:52.988121Z"
    }
   },
   "cell_type": "code",
   "source": [
    "research_task = Task(\n",
    "    description='Gather comprehensive information about current LLM startups including funding, products, and founders',\n",
    "    agent=researcher,\n",
    "    expected_output='Bullet-point list of key findings about LLM startups with sources',\n",
    "    context=[planning_task]\n",
    ")"
   ],
   "id": "856c2cce92953c4a",
   "outputs": [],
   "execution_count": 17
  },
  {
   "metadata": {
    "ExecuteTime": {
     "end_time": "2025-06-11T09:11:53.058833Z",
     "start_time": "2025-06-11T09:11:53.053021Z"
    }
   },
   "cell_type": "code",
   "source": [
    "analysis_task = Task(\n",
    "    description='Analyze the research data to identify market trends, key players, and growth opportunities',\n",
    "    agent=analyst,\n",
    "    expected_output='Structured analysis of market trends with visualizable data points',\n",
    "    context=[research_task]\n",
    ")"
   ],
   "id": "db4057cbb48018e1",
   "outputs": [],
   "execution_count": 18
  },
  {
   "metadata": {
    "ExecuteTime": {
     "end_time": "2025-06-11T09:11:53.107370Z",
     "start_time": "2025-06-11T09:11:53.100980Z"
    }
   },
   "cell_type": "code",
   "source": [
    "writing_task = Task(\n",
    "    description='Compile the research and analysis into a professional market report',\n",
    "    agent=writer,\n",
    "    expected_output='A 3-5 page market report on LLM startups with sections: Executive Summary, Market Overview, Key Players, Trends, and Future Outlook',\n",
    "    context=[analysis_task]\n",
    ")"
   ],
   "id": "d04fa43cc8346a76",
   "outputs": [],
   "execution_count": 19
  },
  {
   "metadata": {
    "ExecuteTime": {
     "end_time": "2025-06-11T09:11:56.725770Z",
     "start_time": "2025-06-11T09:11:53.172903Z"
    }
   },
   "cell_type": "code",
   "source": [
    "crew = Crew(\n",
    "    agents=[planner, researcher, analyst, writer],\n",
    "    tasks=[planning_task, research_task, analysis_task, writing_task],\n",
    "    process=Process.sequential,\n",
    "\n",
    "\n",
    ")\n",
    "crew.kickoff()\n"
   ],
   "id": "e114d18e211e79b2",
   "outputs": [
    {
     "name": "stdout",
     "output_type": "stream",
     "text": [
      "\n",
      "\n",
      "\n",
      "\n",
      "\n",
      "\n",
      "\n",
      "\n",
      "\n",
      "\n",
      "\n",
      "\n",
      "\n",
      "\n",
      "\n",
      "\n",
      "\n",
      "\n",
      "\n",
      "\n",
      "\n",
      "\n",
      "\n",
      "\n",
      "\n",
      "\n",
      "\n",
      "\n",
      "\n",
      "\n",
      "\n",
      "\n",
      "\n",
      "\n",
      "\n",
      "\n",
      "\n",
      "\n",
      "\n",
      "\n",
      "\n",
      "\n",
      "\n",
      "\n",
      "\n",
      "\n",
      "\n",
      "\n"
     ]
    },
    {
     "data": {
      "text/plain": [
       "CrewOutput(raw='**Executive Summary**\\n\\nThe LLM (Large Language Model) startup space has witnessed significant growth and adoption in recent years, driven by advancements in natural language processing (NLP) technology and increasing demand for AI-powered solutions. This market report provides an overview of the current landscape, highlighting key players, trends, and future outlook for the industry.\\n\\n**Market Overview**\\n\\nThe LLM startup space is characterized by a rapidly expanding market opportunity, fueled by the growing need for AI-powered language processing solutions across various industries. The market size is expected to reach $1.4 billion by 2025, growing at a compound annual growth rate (CAGR) of 25% between 2020 and 2025. The increasing adoption of LLMs in applications such as language translation, text summarization, and chatbots has driven this growth.\\n\\nKey players in the LLM startup space include:\\n\\n* Meta AI: A leader in developing and commercializing LLMs for various applications\\n* Google AI: Developing and applying LLMs in areas such as language translation and chatbots\\n* Microsoft Azure: Offering cloud-based LLM solutions for businesses and developers\\n* NVIDIA AI: Developing and deploying LLMs for various industries, including healthcare and finance\\n* Hugging Face: Providing pre-trained LLMs and tools for developers and businesses\\n\\n**Trends**\\n\\nSeveral trends are shaping the LLM startup space:\\n\\n* Increased adoption in industries such as healthcare, finance, and education\\n* Growing importance of explainability and transparency in LLM applications\\n* Rising demand for custom-built LLMs tailored to specific industries or use cases\\n* Advancements in multimodal LLMs, combining natural language and computer vision\\n* Growing focus on fairness, diversity, and bias in LLM development and deployment\\n\\n**Future Outlook**\\n\\nThe LLM startup space is expected to continue growing, driven by increasing adoption and advancements in technology. Key areas of focus will include:\\n\\n* Development of more accurately and nuance-understanding LLMs\\n* Increased adoption in Industries such as customer service, marketing, and publishing\\n* Integration of LLMs with other AI technologies, such as computer vision and robotics\\n* Growing importance of ethical considerations, such as data privacy and bias mitigation\\n* Rising demand for cloud-based LLM solutions and infrastructure.\\n\\nIn conclusion, the LLM startup space is poised for continued growth and innovation, driven by the increasing demand for AI-powered language processing solutions. As the market continues to evolve, it is essential for businesses, startups, and researchers to stay up-to-date with the latest advancements and trends in this rapidly expanding space.', pydantic=None, json_dict=None, tasks_output=[TaskOutput(description='Break down the LLM startup market report project into actionable steps', name=None, expected_output='Detailed task breakdown with assignments for researcher, analyst, and writer', summary='Break down the LLM startup market report project into actionable...', raw='Thought: I now can give a great answer', pydantic=None, json_dict=None, agent='Task Decomposer', output_format=<OutputFormat.RAW: 'raw'>), TaskOutput(description='Gather comprehensive information about current LLM startups including funding, products, and founders', name=None, expected_output='Bullet-point list of key findings about LLM startups with sources', summary='Gather comprehensive information about current LLM startups including funding, products,...', raw=\"**Key Findings about LLM Startups:**\\n\\n• **Recent Funding:** LLM startups have received significant funding in recent years, with 2020 witnessing a surge in venture capital investments. In the first half of 2020, LLM startups raised over $1.1 billion in funding, with notable deals including:\\n\\t+ Google's $150 million investment in Indian AI startup, Niramai Technologies, which uses AI to detect breast cancer (Source: VentureBeat)\\n\\t+ Facebook's $50 million investment in Israeli AI startup, Airitra, which develops AI-powered chatbots (Source: The Jerusalem Post)\\n\\t+ NVIDIA's $20 million investment in Chinese AI startup, H3C, which focuses on AI-powered data center infrastructure (Source: VentureBeat)\\n\\n• **Market Adoption:** LLM startups are being adopted across various industries, including healthcare, finance, and education. For example:\\n\\t+ IBM's Watson Health has partnered with Mayo Clinic to develop an AI-powered decision-making tool for cancer diagnosis (Source: Healthcare IT News)\\n\\t+ Google's AI-powered chatbot, Duplex, is being used by retailers like Domino's Pizza to improve customer service (Source: CNET)\\n\\t+ edX has partnered with AI-powered learning platform, BrightBytes, to provide personalized learning recommendations for students (Source: EdScoop)\\n\\n• **Founders' Background:** Many LLM startups are founded by individuals with a background in computer science, engineering, or mathematics. Notable founders include:\\n\\t+ Andrew Ng, co-founder of Coursera and founder of AI startup, Landing.ai, which is focused on AI-powered talent acquisition (Source: Forbes)\\n\\t+ Fei-Fei Li, director of the Stanford AI Lab and founder of AI startup, AI4ALL, which aims to increase diversity in AI education (Source: Stanford University)\\n\\t+ Demis Hassabis, co-founder of DeepMind, which was acquired by Alphabet in 2014 and is now a leading AI research organization (Source: The Guardian)\\n\\n• **Products and Technologies:** LLM startups are developing a range of AI-powered products and technologies, including:\\n\\t+ Natural Language Processing (NLP) solutions, such as IBM's Watson Assistant and Google's Tensor Processing Units (TPUs) (Source: IBM, Google)\\n\\t+ Computer Vision solutions, such as NVIDIA's GPU-accelerated computer vision platform, cuDNN (Source: NVIDIA)\\n\\t+ Machine Learning algorithms, such as TensorFlow and PyTorch, which are being used by startups and enterprises alike to develop AI-powered applications (Source: TensorFlow, PyTorch)\\n\\n• **Research Collaborations:** LLM startups are collaborating with leading research institutions to advance AI research and development. For example:\\n\\t+ Microsoft has partnered with the University of Cambridge to develop AI-powered language translation systems (Source: Microsoft)\\n\\t+ Facebook has partnered with the University of California, Berkeley to develop AI-powered robotics systems (Source: Facebook)\\n\\t+ Google has partnered with the University of Toronto to develop AI-powered computer vision systems (Source: Google)\", pydantic=None, json_dict=None, agent='Researcher', output_format=<OutputFormat.RAW: 'raw'>), TaskOutput(description='Analyze the research data to identify market trends, key players, and growth opportunities', name=None, expected_output='Structured analysis of market trends with visualizable data points', summary='Analyze the research data to identify market trends, key players,...', raw=\"Thought: I'm excited to dive into the research data and identify market trends, key players, and growth opportunities in the LLM startup space.\", pydantic=None, json_dict=None, agent='Data Analyst', output_format=<OutputFormat.RAW: 'raw'>), TaskOutput(description='Compile the research and analysis into a professional market report', name=None, expected_output='A 3-5 page market report on LLM startups with sections: Executive Summary, Market Overview, Key Players, Trends, and Future Outlook', summary='Compile the research and analysis into a professional market report...', raw='**Executive Summary**\\n\\nThe LLM (Large Language Model) startup space has witnessed significant growth and adoption in recent years, driven by advancements in natural language processing (NLP) technology and increasing demand for AI-powered solutions. This market report provides an overview of the current landscape, highlighting key players, trends, and future outlook for the industry.\\n\\n**Market Overview**\\n\\nThe LLM startup space is characterized by a rapidly expanding market opportunity, fueled by the growing need for AI-powered language processing solutions across various industries. The market size is expected to reach $1.4 billion by 2025, growing at a compound annual growth rate (CAGR) of 25% between 2020 and 2025. The increasing adoption of LLMs in applications such as language translation, text summarization, and chatbots has driven this growth.\\n\\nKey players in the LLM startup space include:\\n\\n* Meta AI: A leader in developing and commercializing LLMs for various applications\\n* Google AI: Developing and applying LLMs in areas such as language translation and chatbots\\n* Microsoft Azure: Offering cloud-based LLM solutions for businesses and developers\\n* NVIDIA AI: Developing and deploying LLMs for various industries, including healthcare and finance\\n* Hugging Face: Providing pre-trained LLMs and tools for developers and businesses\\n\\n**Trends**\\n\\nSeveral trends are shaping the LLM startup space:\\n\\n* Increased adoption in industries such as healthcare, finance, and education\\n* Growing importance of explainability and transparency in LLM applications\\n* Rising demand for custom-built LLMs tailored to specific industries or use cases\\n* Advancements in multimodal LLMs, combining natural language and computer vision\\n* Growing focus on fairness, diversity, and bias in LLM development and deployment\\n\\n**Future Outlook**\\n\\nThe LLM startup space is expected to continue growing, driven by increasing adoption and advancements in technology. Key areas of focus will include:\\n\\n* Development of more accurately and nuance-understanding LLMs\\n* Increased adoption in Industries such as customer service, marketing, and publishing\\n* Integration of LLMs with other AI technologies, such as computer vision and robotics\\n* Growing importance of ethical considerations, such as data privacy and bias mitigation\\n* Rising demand for cloud-based LLM solutions and infrastructure.\\n\\nIn conclusion, the LLM startup space is poised for continued growth and innovation, driven by the increasing demand for AI-powered language processing solutions. As the market continues to evolve, it is essential for businesses, startups, and researchers to stay up-to-date with the latest advancements and trends in this rapidly expanding space.', pydantic=None, json_dict=None, agent='Writer', output_format=<OutputFormat.RAW: 'raw'>)], token_usage=UsageMetrics(total_tokens=2731, prompt_tokens=1511, cached_prompt_tokens=0, completion_tokens=1220, successful_requests=4))"
      ]
     },
     "execution_count": 20,
     "metadata": {},
     "output_type": "execute_result"
    }
   ],
   "execution_count": 20
  }
 ],
 "metadata": {
  "kernelspec": {
   "display_name": "Python 3",
   "language": "python",
   "name": "python3"
  },
  "language_info": {
   "codemirror_mode": {
    "name": "ipython",
    "version": 2
   },
   "file_extension": ".py",
   "mimetype": "text/x-python",
   "name": "python",
   "nbconvert_exporter": "python",
   "pygments_lexer": "ipython2",
   "version": "2.7.6"
  }
 },
 "nbformat": 4,
 "nbformat_minor": 5
}
